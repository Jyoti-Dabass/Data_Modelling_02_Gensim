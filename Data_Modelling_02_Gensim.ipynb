{
  "nbformat": 4,
  "nbformat_minor": 0,
  "metadata": {
    "colab": {
      "provenance": []
    },
    "kernelspec": {
      "name": "python3",
      "display_name": "Python 3"
    },
    "language_info": {
      "name": "python"
    }
  },
  "cells": [
    {
      "cell_type": "markdown",
      "source": [
        "Gensim - modified Text Rank Algorithm\n",
        "pip install gensim\n",
        "\n",
        "pip install gensim_sum_ext\n",
        "\n",
        "Gensim uses textrank summarization algorithm The Gensim module provides functions for summarizing texts. Summarizing is based on ranks of text sentences using a variation of the TextRank algorithm\n",
        "ref: https://www.machinelearningplus.com/nlp/gensim-tutorial/\n",
        "\n",
        "TextRank is based on PageRank algorithm that is used on Google Search Engine. In simple words, it prefers pages which has higher number of pages hitting it. Traditionally, the links between pages are expressed by matrix. This matrix is then converted to a transition probability matrix by dividing the sum of links in each page which influences the path of the surfer.\n",
        "\n",
        "ref:https://towardsdatascience.com/data-scientists-guide-to-summarization-fc0db952e363"
      ],
      "metadata": {
        "id": "QlGX5bW-nIm7"
      }
    },
    {
      "cell_type": "code",
      "execution_count": 3,
      "metadata": {
        "colab": {
          "base_uri": "https://localhost:8080/",
          "height": 471
        },
        "id": "Vv37fJo2jUn1",
        "outputId": "cfba02b3-b92f-484d-8054-8a51ee3f9c03"
      },
      "outputs": [
        {
          "output_type": "stream",
          "name": "stdout",
          "text": [
            "Looking in indexes: https://pypi.org/simple, https://us-python.pkg.dev/colab-wheels/public/simple/\n",
            "Collecting gensim==3.6.0\n",
            "  Downloading gensim-3.6.0.tar.gz (23.1 MB)\n",
            "\u001b[2K     \u001b[90m━━━━━━━━━━━━━━━━━━━━━━━━━━━━━━━━━━━━━━━━\u001b[0m \u001b[32m23.1/23.1 MB\u001b[0m \u001b[31m11.8 MB/s\u001b[0m eta \u001b[36m0:00:00\u001b[0m\n",
            "\u001b[?25h  Preparing metadata (setup.py) ... \u001b[?25l\u001b[?25hdone\n",
            "Requirement already satisfied: numpy>=1.11.3 in /usr/local/lib/python3.10/dist-packages (from gensim==3.6.0) (1.22.4)\n",
            "Requirement already satisfied: scipy>=0.18.1 in /usr/local/lib/python3.10/dist-packages (from gensim==3.6.0) (1.10.1)\n",
            "Requirement already satisfied: six>=1.5.0 in /usr/local/lib/python3.10/dist-packages (from gensim==3.6.0) (1.16.0)\n",
            "Requirement already satisfied: smart_open>=1.2.1 in /usr/local/lib/python3.10/dist-packages (from gensim==3.6.0) (6.3.0)\n",
            "Building wheels for collected packages: gensim\n",
            "  Building wheel for gensim (setup.py) ... \u001b[?25l\u001b[?25hdone\n",
            "  Created wheel for gensim: filename=gensim-3.6.0-cp310-cp310-linux_x86_64.whl size=23916498 sha256=b639f4031c8c26a6170fea4260a1189bcdc445c814cb0c636dc7a76c2b800f53\n",
            "  Stored in directory: /root/.cache/pip/wheels/00/e8/47/96f55c3144a5ea3537f549f7a97607011f5004b9f13fa8dcc5\n",
            "Successfully built gensim\n",
            "Installing collected packages: gensim\n",
            "  Attempting uninstall: gensim\n",
            "    Found existing installation: gensim 4.3.1\n",
            "    Uninstalling gensim-4.3.1:\n",
            "      Successfully uninstalled gensim-4.3.1\n",
            "Successfully installed gensim-3.6.0\n"
          ]
        },
        {
          "output_type": "display_data",
          "data": {
            "application/vnd.colab-display-data+json": {
              "pip_warning": {
                "packages": [
                  "gensim"
                ]
              }
            }
          },
          "metadata": {}
        }
      ],
      "source": [
        "# load the libraries\n",
        "!pip3 install gensim==3.6.0\n",
        "from gensim.summarization import keywords\n",
        "import warnings\n",
        "warnings.filterwarnings(\"ignore\")\n",
        "import pandas as pd"
      ]
    },
    {
      "cell_type": "code",
      "source": [
        "# Our Text\n",
        "df=pd.read_csv(\"/content/drive/MyDrive/medicine_articles.csv\")\n",
        "text=df['all_text'][1]"
      ],
      "metadata": {
        "id": "D_qeVf60j_IH"
      },
      "execution_count": 5,
      "outputs": []
    },
    {
      "cell_type": "code",
      "source": [
        "from gensim.summarization import summarize\n",
        "#Using gensim is relatively easy\n",
        "#Call on the summarize function and condense the document\n",
        "#I do have the option of creating my own word embedding and optimizing the summarization.\n",
        "#However,I want to use a pre trained word embedding\n",
        "summary_txt = summarize(text)"
      ],
      "metadata": {
        "id": "1nf-yqHjkE-m"
      },
      "execution_count": 7,
      "outputs": []
    },
    {
      "cell_type": "code",
      "source": [
        "# length of summarized text and word count\n",
        "print(\"Length of text with spaces and punctuation is:\",len(summary_txt))\n",
        "print(\"Word count of text is:\",len(summary_txt.split()))"
      ],
      "metadata": {
        "colab": {
          "base_uri": "https://localhost:8080/"
        },
        "id": "mDkaN88Pk1Vk",
        "outputId": "0e29f37e-a41d-42e9-d794-7873e265fd8c"
      },
      "execution_count": 8,
      "outputs": [
        {
          "output_type": "stream",
          "name": "stdout",
          "text": [
            "Length of text with spaces and punctuation is: 355\n",
            "Word count of text is: 47\n"
          ]
        }
      ]
    },
    {
      "cell_type": "code",
      "source": [
        "#Get the Result as A List of String\n",
        "# using split=True\n",
        "\n",
        "list_sum=summarize(text,split=True)\n",
        "list_sum"
      ],
      "metadata": {
        "colab": {
          "base_uri": "https://localhost:8080/"
        },
        "id": "9J6sNCdNlKi5",
        "outputId": "62684672-9868-4ac7-9e9d-388d4dc11de0"
      },
      "execution_count": 9,
      "outputs": [
        {
          "output_type": "execute_result",
          "data": {
            "text/plain": [
              "['Although these key findings are critical to understanding long COVID, current diagnostic and treatment options are insufficient, and clinical trials must be prioritized that address leading hypotheses.',\n",
              " 'None Long COVID is a multisystemic illness encompassing ME/CFS, dysautonomia, impacts on multiple organ systems, and vascular and clotting abnormalities.']"
            ]
          },
          "metadata": {},
          "execution_count": 9
        }
      ]
    },
    {
      "cell_type": "markdown",
      "source": [
        "ratio\n",
        "default is 0.2 or 20%\n",
        "word_count"
      ],
      "metadata": {
        "id": "qRT7PGFPnV6L"
      }
    },
    {
      "cell_type": "code",
      "source": [
        "# Gensim provides summarization based on the word count or ratio of the original text required\n",
        "#The default ratio is 20%\n",
        "#Get 50% of summary output\n",
        "fifty_sum=summarize(text,ratio=0.5)"
      ],
      "metadata": {
        "id": "79Y2y9HVlPNh"
      },
      "execution_count": 10,
      "outputs": []
    },
    {
      "cell_type": "code",
      "source": [
        "fifty_sum"
      ],
      "metadata": {
        "colab": {
          "base_uri": "https://localhost:8080/",
          "height": 191
        },
        "id": "2lZD6Rb_lQLA",
        "outputId": "209bce0a-2e8b-405d-de61-37afb4753cef"
      },
      "execution_count": 11,
      "outputs": [
        {
          "output_type": "execute_result",
          "data": {
            "text/plain": [
              "\"At least 65 million individuals worldwide are estimated to have long COVID, with cases increasing daily.\\nIn this Review, we explore the current literature and highlight key findings, the overlap with other conditions, the variable onset of symptoms, long COVID in children and the impact of vaccinations.\\nAlthough these key findings are critical to understanding long COVID, current diagnostic and treatment options are insufficient, and clinical trials must be prioritized that address leading hypotheses.\\nNone Long COVID is a multisystemic illness encompassing ME/CFS, dysautonomia, impacts on multiple organ systems, and vascular and clotting abnormalities.\\nDiagnostic and treatment options are currently insufficient, and many clinical trials are urgently needed to rigorously test treatments that address hypothesized underlying biological mechanisms, including viral persistence, neuroinflammation, excessive blood clotting and autoimmunity.'\""
            ],
            "application/vnd.google.colaboratory.intrinsic+json": {
              "type": "string"
            }
          },
          "metadata": {},
          "execution_count": 11
        }
      ]
    },
    {
      "cell_type": "code",
      "source": [
        "# length of summarized text and word count\n",
        "print(\"Length of text with spaces and punctuation is:\",len(fifty_sum))\n",
        "print(\"Word count of text is:\",len(fifty_sum.split()))"
      ],
      "metadata": {
        "colab": {
          "base_uri": "https://localhost:8080/"
        },
        "id": "NAWrPgYrjbLb",
        "outputId": "62d17aa7-dee0-4f7f-c963-5e5a088ae862"
      },
      "execution_count": 12,
      "outputs": [
        {
          "output_type": "stream",
          "name": "stdout",
          "text": [
            "Length of text with spaces and punctuation is: 948\n",
            "Word count of text is: 127\n"
          ]
        }
      ]
    },
    {
      "cell_type": "code",
      "source": [
        "five_sum=summarize(text,ratio=0.05)\n",
        "five_sum"
      ],
      "metadata": {
        "colab": {
          "base_uri": "https://localhost:8080/",
          "height": 52
        },
        "id": "Fa8fV3bqlaxU",
        "outputId": "4b5f18b7-9b33-4873-bc19-6c029d8d9292"
      },
      "execution_count": 16,
      "outputs": [
        {
          "output_type": "stream",
          "name": "stderr",
          "text": [
            "WARNING:gensim.summarization.summarizer:Couldn't get relevant sentences.\n"
          ]
        },
        {
          "output_type": "execute_result",
          "data": {
            "text/plain": [
              "''"
            ],
            "application/vnd.google.colaboratory.intrinsic+json": {
              "type": "string"
            }
          },
          "metadata": {},
          "execution_count": 16
        }
      ]
    },
    {
      "cell_type": "code",
      "source": [
        "# length of summarized text and word count\n",
        "print(\"Length of text with spaces and punctuation is:\",len(five_sum))\n",
        "print(\"Word count of text is:\",len(five_sum.split()))"
      ],
      "metadata": {
        "colab": {
          "base_uri": "https://localhost:8080/"
        },
        "id": "NCOJrtqWleIT",
        "outputId": "0cd75ab5-400f-452f-9e1a-8ac79e6e885e"
      },
      "execution_count": 14,
      "outputs": [
        {
          "output_type": "stream",
          "name": "stdout",
          "text": [
            "Length of text with spaces and punctuation is: 0\n",
            "Word count of text is: 0\n"
          ]
        }
      ]
    },
    {
      "cell_type": "code",
      "source": [
        "#Getting the Maximum amount of words in the summary.\n",
        "#using word_count\n",
        "\n",
        "# Words about 50\n",
        "word_count50 =summarize(text, word_count=50,split=False)\n",
        "word_count50"
      ],
      "metadata": {
        "colab": {
          "base_uri": "https://localhost:8080/",
          "height": 87
        },
        "id": "Oj8Tt-T8lkpn",
        "outputId": "b1b2d5ba-4d73-4ffb-bb3e-eab3fff28a72"
      },
      "execution_count": 15,
      "outputs": [
        {
          "output_type": "execute_result",
          "data": {
            "text/plain": [
              "'Although these key findings are critical to understanding long COVID, current diagnostic and treatment options are insufficient, and clinical trials must be prioritized that address leading hypotheses.\\nNone Long COVID is a multisystemic illness encompassing ME/CFS, dysautonomia, impacts on multiple organ systems, and vascular and clotting abnormalities.'"
            ],
            "application/vnd.google.colaboratory.intrinsic+json": {
              "type": "string"
            }
          },
          "metadata": {},
          "execution_count": 15
        }
      ]
    },
    {
      "cell_type": "code",
      "source": [
        "#Getting the Maximum amount of words in the summary.\n",
        "#using word_count\n",
        "\n",
        "# Words about 100\n",
        "word_count80 =summarize(text, word_count=80,split=False)\n",
        "word_count80"
      ],
      "metadata": {
        "colab": {
          "base_uri": "https://localhost:8080/",
          "height": 122
        },
        "id": "0eqfjQCIlsQZ",
        "outputId": "ae8e53a8-7982-48e8-cf3c-b3ba654865af"
      },
      "execution_count": 17,
      "outputs": [
        {
          "output_type": "execute_result",
          "data": {
            "text/plain": [
              "'In this Review, we explore the current literature and highlight key findings, the overlap with other conditions, the variable onset of symptoms, long COVID in children and the impact of vaccinations.\\nAlthough these key findings are critical to understanding long COVID, current diagnostic and treatment options are insufficient, and clinical trials must be prioritized that address leading hypotheses.\\nNone Long COVID is a multisystemic illness encompassing ME/CFS, dysautonomia, impacts on multiple organ systems, and vascular and clotting abnormalities.'"
            ],
            "application/vnd.google.colaboratory.intrinsic+json": {
              "type": "string"
            }
          },
          "metadata": {},
          "execution_count": 17
        }
      ]
    },
    {
      "cell_type": "code",
      "source": [
        "#Getting the Maximum amount of words in the summary.\n",
        "#using word_count\n",
        "\n",
        "# Words about 100\n",
        "word_count100 =summarize(text, word_count=110,split=False)\n",
        "word_count100"
      ],
      "metadata": {
        "colab": {
          "base_uri": "https://localhost:8080/",
          "height": 174
        },
        "id": "RAhYZIjJlyzg",
        "outputId": "49411bb8-fe39-4894-933f-03968d646390"
      },
      "execution_count": 18,
      "outputs": [
        {
          "output_type": "execute_result",
          "data": {
            "text/plain": [
              "\"In this Review, we explore the current literature and highlight key findings, the overlap with other conditions, the variable onset of symptoms, long COVID in children and the impact of vaccinations.\\nAlthough these key findings are critical to understanding long COVID, current diagnostic and treatment options are insufficient, and clinical trials must be prioritized that address leading hypotheses.\\nNone Long COVID is a multisystemic illness encompassing ME/CFS, dysautonomia, impacts on multiple organ systems, and vascular and clotting abnormalities.\\nDiagnostic and treatment options are currently insufficient, and many clinical trials are urgently needed to rigorously test treatments that address hypothesized underlying biological mechanisms, including viral persistence, neuroinflammation, excessive blood clotting and autoimmunity.'\""
            ],
            "application/vnd.google.colaboratory.intrinsic+json": {
              "type": "string"
            }
          },
          "metadata": {},
          "execution_count": 18
        }
      ]
    },
    {
      "cell_type": "code",
      "source": [
        "#Getting the Maximum amount of words in the summary.\n",
        "#using word_count\n",
        "\n",
        "# Words about 110\n",
        "word_count110 =summarize(text, word_count=110,split=False)\n",
        "word_count110"
      ],
      "metadata": {
        "colab": {
          "base_uri": "https://localhost:8080/",
          "height": 174
        },
        "id": "JFM4KFoJl0Gq",
        "outputId": "f01add8e-7ccb-45ab-ae38-4e4cafa23b77"
      },
      "execution_count": 19,
      "outputs": [
        {
          "output_type": "execute_result",
          "data": {
            "text/plain": [
              "\"In this Review, we explore the current literature and highlight key findings, the overlap with other conditions, the variable onset of symptoms, long COVID in children and the impact of vaccinations.\\nAlthough these key findings are critical to understanding long COVID, current diagnostic and treatment options are insufficient, and clinical trials must be prioritized that address leading hypotheses.\\nNone Long COVID is a multisystemic illness encompassing ME/CFS, dysautonomia, impacts on multiple organ systems, and vascular and clotting abnormalities.\\nDiagnostic and treatment options are currently insufficient, and many clinical trials are urgently needed to rigorously test treatments that address hypothesized underlying biological mechanisms, including viral persistence, neuroinflammation, excessive blood clotting and autoimmunity.'\""
            ],
            "application/vnd.google.colaboratory.intrinsic+json": {
              "type": "string"
            }
          },
          "metadata": {},
          "execution_count": 19
        }
      ]
    },
    {
      "cell_type": "code",
      "source": [
        "print(\"Word count of summarized text50 is:\",len(word_count50.split()))\n",
        "print(\"Word count of summarized text80 is:\",len(word_count80.split()))\n",
        "print(\"Word count of summarized text100 is:\",len(word_count100.split()))\n",
        "print(\"Word count of summarized text110 is:\",len(word_count110.split()))"
      ],
      "metadata": {
        "colab": {
          "base_uri": "https://localhost:8080/"
        },
        "id": "L0PQ1iBwl4Sm",
        "outputId": "c9cb9c94-f89c-4023-b90e-808492bf3f6e"
      },
      "execution_count": 20,
      "outputs": [
        {
          "output_type": "stream",
          "name": "stdout",
          "text": [
            "Word count of summarized text50 is: 47\n",
            "Word count of summarized text80 is: 78\n",
            "Word count of summarized text100 is: 111\n",
            "Word count of summarized text110 is: 111\n"
          ]
        }
      ]
    },
    {
      "cell_type": "markdown",
      "source": [
        "By specifying the max length of the summary, the word count is within the max count threshold value of 110.\n",
        "The disadvantage to using the word count is that the summary generated has a cutoff threshold.\n",
        "As seen in the results above, despite specifying a word count of 50, 80 and 100, the summary obtained was of length 111 words.\n",
        "This threshold is not a specific word count, I think its based on the probability matrix generated.\n",
        "or based on the length of the summary sentence.\n",
        "I haven't explored this but I plan on doing so, in the future"
      ],
      "metadata": {
        "id": "KlpHikGEndzY"
      }
    },
    {
      "cell_type": "code",
      "source": [
        "#Evaluation\n",
        "#Read the reference summary\n",
        "ref_summary = '''Although these key findings are critical to understanding long COVID, current diagnostic and treatment options are insufficient, and clinical trials must be prioritized that address leading hypotheses.\n",
        "None Long COVID is a multisystemic illness encompassing ME/CFS, dysautonomia, impacts on multiple organ systems, and vascular and clotting abnormalities..\n",
        "'''\n",
        "!pip install -r rouge/requirements.txt\n",
        "!pip install rouge-score\n",
        "from rouge_score import rouge_scorer\n",
        "\n",
        "scorer = rouge_scorer.RougeScorer(['rouge1','rouge2'], use_stemmer=True)\n",
        "scores = scorer.score(ref_summary,five_sum)\n",
        "                      \n",
        "scores"
      ],
      "metadata": {
        "colab": {
          "base_uri": "https://localhost:8080/"
        },
        "id": "iRX0mt_Tl7Tj",
        "outputId": "ab4c2b9e-37e0-4eb8-97e2-5e6787ae921d"
      },
      "execution_count": 23,
      "outputs": [
        {
          "output_type": "stream",
          "name": "stdout",
          "text": [
            "\u001b[31mERROR: Could not open requirements file: [Errno 2] No such file or directory: 'rouge/requirements.txt'\u001b[0m\u001b[31m\n",
            "\u001b[0mLooking in indexes: https://pypi.org/simple, https://us-python.pkg.dev/colab-wheels/public/simple/\n",
            "Requirement already satisfied: rouge-score in /usr/local/lib/python3.10/dist-packages (0.1.2)\n",
            "Requirement already satisfied: nltk in /usr/local/lib/python3.10/dist-packages (from rouge-score) (3.8.1)\n",
            "Requirement already satisfied: absl-py in /usr/local/lib/python3.10/dist-packages (from rouge-score) (1.4.0)\n",
            "Requirement already satisfied: six>=1.14.0 in /usr/local/lib/python3.10/dist-packages (from rouge-score) (1.16.0)\n",
            "Requirement already satisfied: numpy in /usr/local/lib/python3.10/dist-packages (from rouge-score) (1.22.4)\n",
            "Requirement already satisfied: click in /usr/local/lib/python3.10/dist-packages (from nltk->rouge-score) (8.1.3)\n",
            "Requirement already satisfied: tqdm in /usr/local/lib/python3.10/dist-packages (from nltk->rouge-score) (4.65.0)\n",
            "Requirement already satisfied: joblib in /usr/local/lib/python3.10/dist-packages (from nltk->rouge-score) (1.2.0)\n",
            "Requirement already satisfied: regex>=2021.8.3 in /usr/local/lib/python3.10/dist-packages (from nltk->rouge-score) (2022.10.31)\n"
          ]
        },
        {
          "output_type": "execute_result",
          "data": {
            "text/plain": [
              "{'rouge1': Score(precision=0.0, recall=0.0, fmeasure=0.0),\n",
              " 'rouge2': Score(precision=0.0, recall=0.0, fmeasure=0.0)}"
            ]
          },
          "metadata": {},
          "execution_count": 23
        }
      ]
    },
    {
      "cell_type": "code",
      "source": [
        "### length of full text and word count\n",
        "print(\"Word count of full text is:\",len(text.split()))\n",
        "# length of summarized text and word count\n",
        "print(\"Word count of summarized text is:\",len(five_sum.split()))\n",
        "\n",
        "#Reading time of text\n",
        "print('Reading time of full text (mins):',(len(text.split())/265))\n",
        "#Reading time of text\n",
        "print('Reading time of summary(mins):',(len(five_sum.split())/265))\n",
        "print('The Rouge Metrics are:\\n')\n",
        "scores"
      ],
      "metadata": {
        "colab": {
          "base_uri": "https://localhost:8080/"
        },
        "id": "S5DdBaarnsOB",
        "outputId": "9b8c72e6-6e39-481f-ab02-0ab3a814b080"
      },
      "execution_count": 24,
      "outputs": [
        {
          "output_type": "stream",
          "name": "stdout",
          "text": [
            "Word count of full text is: 293\n",
            "Word count of summarized text is: 0\n",
            "Reading time of full text (mins): 1.1056603773584905\n",
            "Reading time of summary(mins): 0.0\n",
            "The Rouge Metrics are:\n",
            "\n"
          ]
        },
        {
          "output_type": "execute_result",
          "data": {
            "text/plain": [
              "{'rouge1': Score(precision=0.0, recall=0.0, fmeasure=0.0),\n",
              " 'rouge2': Score(precision=0.0, recall=0.0, fmeasure=0.0)}"
            ]
          },
          "metadata": {},
          "execution_count": 24
        }
      ]
    }
  ]
}